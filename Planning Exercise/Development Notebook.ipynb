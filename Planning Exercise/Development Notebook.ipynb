{
 "cells": [
  {
   "cell_type": "code",
   "execution_count": 94,
   "metadata": {
    "collapsed": false
   },
   "outputs": [
    {
     "data": {
      "text/plain": [
       "<module 'Planner' from 'C:\\\\Users\\\\macle\\\\Desktop\\\\UPC Masters\\\\Semester 2\\\\PAR\\\\Planning Exercise\\\\Planner.py'>"
      ]
     },
     "execution_count": 94,
     "metadata": {},
     "output_type": "execute_result"
    }
   ],
   "source": [
    "import Planner\n",
    "import importlib\n",
    "importlib.reload(Planner)"
   ]
  },
  {
   "cell_type": "code",
   "execution_count": 95,
   "metadata": {
    "collapsed": false
   },
   "outputs": [],
   "source": [
    "my_planner = Planner.Planner({'robot-location': 0, 'steps': 0, 'petitions': {2: 1, 10: 3, 11: 1, 12: 2, 24: 1}, 'robot-free': True, 'robot-loaded': 0, 'machines': {3: 3, 7: 1, 20: 2, 22: 1,30:2}, 'served': []},36)"
   ]
  },
  {
   "cell_type": "code",
   "execution_count": 52,
   "metadata": {
    "collapsed": false
   },
   "outputs": [
    {
     "data": {
      "text/plain": [
       "['move', [0, 3]]"
      ]
     },
     "execution_count": 52,
     "metadata": {},
     "output_type": "execute_result"
    }
   ],
   "source": [
    "my_planner.select_action(x)"
   ]
  },
  {
   "cell_type": "code",
   "execution_count": 26,
   "metadata": {
    "collapsed": false
   },
   "outputs": [
    {
     "data": {
      "text/plain": [
       "{'machines': {3: 1, 10: 1, 15: 1, 19: 1},\n",
       " 'petitions': {8: 1, 13: 3, 15: 1, 19: 1, 20: 1},\n",
       " 'robot-free': True,\n",
       " 'robot-loaded': 0,\n",
       " 'robot-location': 19,\n",
       " 'served': [],\n",
       " 'steps': 2}"
      ]
     },
     "execution_count": 26,
     "metadata": {},
     "output_type": "execute_result"
    }
   ],
   "source": [
    "my_planner.move(0,19)"
   ]
  },
  {
   "cell_type": "code",
   "execution_count": 96,
   "metadata": {
    "collapsed": false
   },
   "outputs": [
    {
     "name": "stdout",
     "output_type": "stream",
     "text": [
      "['move', [0, 3]]\n",
      "['make', [3, 3]]\n",
      "['move', [3, 10]]\n",
      "['serve', [10, 3]]\n",
      "['move', [10, 7]]\n",
      "['make', [7, 1]]\n",
      "['move', [7, 2]]\n",
      "['serve', [2, 1]]\n",
      "['move', [2, 7]]\n",
      "['make', [7, 1]]\n",
      "['move', [7, 11]]\n",
      "['serve', [11, 1]]\n",
      "['move', [11, 7]]\n",
      "['make', [7, 1]]\n",
      "['move', [7, 24]]\n",
      "['serve', [24, 1]]\n",
      "['move', [24, 20]]\n",
      "['make', [20, 2]]\n",
      "['move', [20, 12]]\n",
      "['serve', [12, 2]]\n"
     ]
    }
   ],
   "source": [
    "my_planner.build_plan()"
   ]
  },
  {
   "cell_type": "code",
   "execution_count": 97,
   "metadata": {
    "collapsed": false
   },
   "outputs": [
    {
     "data": {
      "text/plain": [
       "{'machines': {3: 3, 7: 1, 20: 2, 22: 1, 30: 2},\n",
       " 'petitions': {},\n",
       " 'robot-free': True,\n",
       " 'robot-loaded': 0,\n",
       " 'robot-location': 12,\n",
       " 'served': [10, 2, 11, 24, 12],\n",
       " 'steps': 44}"
      ]
     },
     "execution_count": 97,
     "metadata": {},
     "output_type": "execute_result"
    }
   ],
   "source": [
    "my_planner.state"
   ]
  }
 ],
 "metadata": {
  "kernelspec": {
   "display_name": "Python 3",
   "language": "python",
   "name": "python3"
  },
  "language_info": {
   "codemirror_mode": {
    "name": "ipython",
    "version": 3
   },
   "file_extension": ".py",
   "mimetype": "text/x-python",
   "name": "python",
   "nbconvert_exporter": "python",
   "pygments_lexer": "ipython3",
   "version": "3.5.0"
  }
 },
 "nbformat": 4,
 "nbformat_minor": 0
}
