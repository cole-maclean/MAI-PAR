{
 "cells": [
  {
   "cell_type": "code",
   "execution_count": 15,
   "metadata": {
    "collapsed": false
   },
   "outputs": [
    {
     "data": {
      "text/plain": [
       "<module 'Planner' from 'C:\\\\Users\\\\macle\\\\Desktop\\\\UPC Masters\\\\Semester 2\\\\PAR\\\\Planning Exercise\\\\Planner.py'>"
      ]
     },
     "execution_count": 15,
     "metadata": {},
     "output_type": "execute_result"
    }
   ],
   "source": [
    "import Planner\n",
    "import importlib\n",
    "importlib.reload(Planner)"
   ]
  },
  {
   "cell_type": "code",
   "execution_count": 16,
   "metadata": {
    "collapsed": false
   },
   "outputs": [],
   "source": [
    "my_planner = Planner.Planner({'robot-location': 0, 'steps': 0, 'petitions': {2: 1, 10: 3, 11: 1, 12: 2, 24: 1}, 'robot-free': True, 'robot-loaded': 0, 'machines': {3: 3, 7: 1, 20: 2, 22: 1,30:2}, 'served': []},36)"
   ]
  },
  {
   "cell_type": "code",
   "execution_count": 20,
   "metadata": {
    "collapsed": false
   },
   "outputs": [
    {
     "data": {
      "text/plain": [
       "[{'action': ['move', [0, 3]],\n",
       "  'state': {'machines': {3: 3, 7: 1, 20: 2, 22: 1, 30: 2},\n",
       "   'petitions': {2: 1, 11: 1, 12: 2, 24: 1},\n",
       "   'robot-free': True,\n",
       "   'robot-loaded': 0,\n",
       "   'robot-location': 0,\n",
       "   'served': [10],\n",
       "   'steps': 0}},\n",
       " {'action': ['make', [3, 3]],\n",
       "  'state': {'machines': {3: 3, 7: 1, 20: 2, 22: 1, 30: 2},\n",
       "   'petitions': {2: 1, 11: 1, 12: 2, 24: 1},\n",
       "   'robot-free': True,\n",
       "   'robot-loaded': 0,\n",
       "   'robot-location': 3,\n",
       "   'served': [10],\n",
       "   'steps': 4}},\n",
       " {'action': ['move', [3, 10]],\n",
       "  'state': {'machines': {3: 3, 7: 1, 20: 2, 22: 1, 30: 2},\n",
       "   'petitions': {2: 1, 11: 1, 12: 2, 24: 1},\n",
       "   'robot-free': False,\n",
       "   'robot-loaded': 3,\n",
       "   'robot-location': 3,\n",
       "   'served': [10],\n",
       "   'steps': 4}},\n",
       " {'action': ['serve', [10, 3]],\n",
       "  'state': {'machines': {3: 3, 7: 1, 20: 2, 22: 1, 30: 2},\n",
       "   'petitions': {2: 1, 11: 1, 12: 2, 24: 1},\n",
       "   'robot-free': False,\n",
       "   'robot-loaded': 3,\n",
       "   'robot-location': 10,\n",
       "   'served': [10],\n",
       "   'steps': 6}}]"
      ]
     },
     "execution_count": 20,
     "metadata": {},
     "output_type": "execute_result"
    }
   ],
   "source": [
    "my_planner.perform_step()"
   ]
  },
  {
   "cell_type": "code",
   "execution_count": 3,
   "metadata": {
    "collapsed": false
   },
   "outputs": [
    {
     "name": "stdout",
     "output_type": "stream",
     "text": [
      "['move', [0, 3]]\n",
      "['make', [3, 3]]\n",
      "['move', [3, 10]]\n",
      "['serve', [10, 3]]\n",
      "['move', [10, 7]]\n",
      "['make', [7, 1]]\n",
      "['move', [7, 2]]\n",
      "['serve', [2, 1]]\n",
      "['move', [2, 7]]\n",
      "['make', [7, 1]]\n",
      "['move', [7, 11]]\n",
      "['serve', [11, 1]]\n",
      "['move', [11, 7]]\n",
      "['make', [7, 1]]\n",
      "['move', [7, 24]]\n",
      "['serve', [24, 1]]\n",
      "['move', [24, 20]]\n",
      "['make', [20, 2]]\n",
      "['move', [20, 12]]\n",
      "['serve', [12, 2]]\n"
     ]
    }
   ],
   "source": [
    "my_planner.build_plan()"
   ]
  },
  {
   "cell_type": "code",
   "execution_count": 5,
   "metadata": {
    "collapsed": false
   },
   "outputs": [
    {
     "data": {
      "text/plain": [
       "[{'action': ['move', [0, 3]],\n",
       "  'state': {'machines': {3: 3, 7: 1, 20: 2, 22: 1, 30: 2},\n",
       "   'petitions': {},\n",
       "   'robot-free': True,\n",
       "   'robot-loaded': 0,\n",
       "   'robot-location': 12,\n",
       "   'served': [10, 2, 11, 24, 12],\n",
       "   'steps': 42}},\n",
       " {'action': ['make', [3, 3]],\n",
       "  'state': {'machines': {3: 3, 7: 1, 20: 2, 22: 1, 30: 2},\n",
       "   'petitions': {},\n",
       "   'robot-free': True,\n",
       "   'robot-loaded': 0,\n",
       "   'robot-location': 12,\n",
       "   'served': [10, 2, 11, 24, 12],\n",
       "   'steps': 42}},\n",
       " {'action': ['move', [3, 10]],\n",
       "  'state': {'machines': {3: 3, 7: 1, 20: 2, 22: 1, 30: 2},\n",
       "   'petitions': {},\n",
       "   'robot-free': True,\n",
       "   'robot-loaded': 0,\n",
       "   'robot-location': 12,\n",
       "   'served': [10, 2, 11, 24, 12],\n",
       "   'steps': 42}},\n",
       " {'action': ['serve', [10, 3]],\n",
       "  'state': {'machines': {3: 3, 7: 1, 20: 2, 22: 1, 30: 2},\n",
       "   'petitions': {},\n",
       "   'robot-free': True,\n",
       "   'robot-loaded': 0,\n",
       "   'robot-location': 12,\n",
       "   'served': [10, 2, 11, 24, 12],\n",
       "   'steps': 42}},\n",
       " {'action': ['move', [10, 7]],\n",
       "  'state': {'machines': {3: 3, 7: 1, 20: 2, 22: 1, 30: 2},\n",
       "   'petitions': {},\n",
       "   'robot-free': True,\n",
       "   'robot-loaded': 0,\n",
       "   'robot-location': 12,\n",
       "   'served': [10, 2, 11, 24, 12],\n",
       "   'steps': 42}},\n",
       " {'action': ['make', [7, 1]],\n",
       "  'state': {'machines': {3: 3, 7: 1, 20: 2, 22: 1, 30: 2},\n",
       "   'petitions': {},\n",
       "   'robot-free': True,\n",
       "   'robot-loaded': 0,\n",
       "   'robot-location': 12,\n",
       "   'served': [10, 2, 11, 24, 12],\n",
       "   'steps': 42}},\n",
       " {'action': ['move', [7, 2]],\n",
       "  'state': {'machines': {3: 3, 7: 1, 20: 2, 22: 1, 30: 2},\n",
       "   'petitions': {},\n",
       "   'robot-free': True,\n",
       "   'robot-loaded': 0,\n",
       "   'robot-location': 12,\n",
       "   'served': [10, 2, 11, 24, 12],\n",
       "   'steps': 42}},\n",
       " {'action': ['serve', [2, 1]],\n",
       "  'state': {'machines': {3: 3, 7: 1, 20: 2, 22: 1, 30: 2},\n",
       "   'petitions': {},\n",
       "   'robot-free': True,\n",
       "   'robot-loaded': 0,\n",
       "   'robot-location': 12,\n",
       "   'served': [10, 2, 11, 24, 12],\n",
       "   'steps': 42}},\n",
       " {'action': ['move', [2, 7]],\n",
       "  'state': {'machines': {3: 3, 7: 1, 20: 2, 22: 1, 30: 2},\n",
       "   'petitions': {},\n",
       "   'robot-free': True,\n",
       "   'robot-loaded': 0,\n",
       "   'robot-location': 12,\n",
       "   'served': [10, 2, 11, 24, 12],\n",
       "   'steps': 42}},\n",
       " {'action': ['make', [7, 1]],\n",
       "  'state': {'machines': {3: 3, 7: 1, 20: 2, 22: 1, 30: 2},\n",
       "   'petitions': {},\n",
       "   'robot-free': True,\n",
       "   'robot-loaded': 0,\n",
       "   'robot-location': 12,\n",
       "   'served': [10, 2, 11, 24, 12],\n",
       "   'steps': 42}},\n",
       " {'action': ['move', [7, 11]],\n",
       "  'state': {'machines': {3: 3, 7: 1, 20: 2, 22: 1, 30: 2},\n",
       "   'petitions': {},\n",
       "   'robot-free': True,\n",
       "   'robot-loaded': 0,\n",
       "   'robot-location': 12,\n",
       "   'served': [10, 2, 11, 24, 12],\n",
       "   'steps': 42}},\n",
       " {'action': ['serve', [11, 1]],\n",
       "  'state': {'machines': {3: 3, 7: 1, 20: 2, 22: 1, 30: 2},\n",
       "   'petitions': {},\n",
       "   'robot-free': True,\n",
       "   'robot-loaded': 0,\n",
       "   'robot-location': 12,\n",
       "   'served': [10, 2, 11, 24, 12],\n",
       "   'steps': 42}},\n",
       " {'action': ['move', [11, 7]],\n",
       "  'state': {'machines': {3: 3, 7: 1, 20: 2, 22: 1, 30: 2},\n",
       "   'petitions': {},\n",
       "   'robot-free': True,\n",
       "   'robot-loaded': 0,\n",
       "   'robot-location': 12,\n",
       "   'served': [10, 2, 11, 24, 12],\n",
       "   'steps': 42}},\n",
       " {'action': ['make', [7, 1]],\n",
       "  'state': {'machines': {3: 3, 7: 1, 20: 2, 22: 1, 30: 2},\n",
       "   'petitions': {},\n",
       "   'robot-free': True,\n",
       "   'robot-loaded': 0,\n",
       "   'robot-location': 12,\n",
       "   'served': [10, 2, 11, 24, 12],\n",
       "   'steps': 42}},\n",
       " {'action': ['move', [7, 24]],\n",
       "  'state': {'machines': {3: 3, 7: 1, 20: 2, 22: 1, 30: 2},\n",
       "   'petitions': {},\n",
       "   'robot-free': True,\n",
       "   'robot-loaded': 0,\n",
       "   'robot-location': 12,\n",
       "   'served': [10, 2, 11, 24, 12],\n",
       "   'steps': 42}},\n",
       " {'action': ['serve', [24, 1]],\n",
       "  'state': {'machines': {3: 3, 7: 1, 20: 2, 22: 1, 30: 2},\n",
       "   'petitions': {},\n",
       "   'robot-free': True,\n",
       "   'robot-loaded': 0,\n",
       "   'robot-location': 12,\n",
       "   'served': [10, 2, 11, 24, 12],\n",
       "   'steps': 42}},\n",
       " {'action': ['move', [24, 20]],\n",
       "  'state': {'machines': {3: 3, 7: 1, 20: 2, 22: 1, 30: 2},\n",
       "   'petitions': {},\n",
       "   'robot-free': True,\n",
       "   'robot-loaded': 0,\n",
       "   'robot-location': 12,\n",
       "   'served': [10, 2, 11, 24, 12],\n",
       "   'steps': 42}},\n",
       " {'action': ['make', [20, 2]],\n",
       "  'state': {'machines': {3: 3, 7: 1, 20: 2, 22: 1, 30: 2},\n",
       "   'petitions': {},\n",
       "   'robot-free': True,\n",
       "   'robot-loaded': 0,\n",
       "   'robot-location': 12,\n",
       "   'served': [10, 2, 11, 24, 12],\n",
       "   'steps': 42}},\n",
       " {'action': ['move', [20, 12]],\n",
       "  'state': {'machines': {3: 3, 7: 1, 20: 2, 22: 1, 30: 2},\n",
       "   'petitions': {},\n",
       "   'robot-free': True,\n",
       "   'robot-loaded': 0,\n",
       "   'robot-location': 12,\n",
       "   'served': [10, 2, 11, 24, 12],\n",
       "   'steps': 42}},\n",
       " {'action': ['serve', [12, 2]],\n",
       "  'state': {'machines': {3: 3, 7: 1, 20: 2, 22: 1, 30: 2},\n",
       "   'petitions': {},\n",
       "   'robot-free': True,\n",
       "   'robot-loaded': 0,\n",
       "   'robot-location': 12,\n",
       "   'served': [10, 2, 11, 24, 12],\n",
       "   'steps': 42}},\n",
       " {'action': {},\n",
       "  'state': {'machines': {3: 3, 7: 1, 20: 2, 22: 1, 30: 2},\n",
       "   'petitions': {},\n",
       "   'robot-free': True,\n",
       "   'robot-loaded': 0,\n",
       "   'robot-location': 12,\n",
       "   'served': [10, 2, 11, 24, 12],\n",
       "   'steps': 42}}]"
      ]
     },
     "execution_count": 5,
     "metadata": {},
     "output_type": "execute_result"
    }
   ],
   "source": [
    "my_planner.plan"
   ]
  }
 ],
 "metadata": {
  "kernelspec": {
   "display_name": "Python 3",
   "language": "python",
   "name": "python3"
  },
  "language_info": {
   "codemirror_mode": {
    "name": "ipython",
    "version": 3
   },
   "file_extension": ".py",
   "mimetype": "text/x-python",
   "name": "python",
   "nbconvert_exporter": "python",
   "pygments_lexer": "ipython3",
   "version": "3.5.0"
  }
 },
 "nbformat": 4,
 "nbformat_minor": 0
}
