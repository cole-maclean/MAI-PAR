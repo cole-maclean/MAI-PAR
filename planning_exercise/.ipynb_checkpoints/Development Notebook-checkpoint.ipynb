{
 "cells": [
  {
   "cell_type": "markdown",
   "metadata": {},
   "source": [
    "<h1>Coffee Delivery Robot Linear Planner</h1>\n",
    "<b>MAI-PAR Planning Exercise</b>  \n",
    "<b>Cole MacLean and Lucky Ekechi</b>  \n",
    "<b>November 6, 2016</b>  \n",
    "\n",
    "<h2>Introduction</h2>\n",
    "A discrete state planning exercise is presented to utilize and test the linear planning with a stack of goals ([PRISM](http://www.cs.cmu.edu/~mmv/planning/readings/strips.pdf)) algorithm for agent planning.  \n",
    "\n",
    "A mobile robotic agent capable of making and serving coffee to offices within a 2D office building is tasked with efficiently serving the requested coffee petitions in the least amount of steps to reduce office worker disturbances. The office building is modelled as a 6x6 square grid of 36 offices, and the steps between 2 offices is defined as their manhattan distance. The agent is fed information about coffee machine and petition capacities and office locations, and is required to build a daily service plan to efficiently fulfill the petitions given the new office configuration.\n",
    "\n",
    "The agent is a linear planner with 3 operators: Move, Make and Serve. The preconditions, additions and deletions of each operator in the planning algorithm are listed below.\n",
    "\n",
    "Make(o,n): the robot makes n cups of coffee in the machine located at office o\n",
    "<ul>\n",
    " <li>Preconditions: robot-location(o), robot-free, machine(o,n)</li>\n",
    " <li>Add: robot-loaded(n)</li>\n",
    " <li>Delete: robot-free</li>\n",
    "</ul>\n",
    "\n",
    "Move(o1,o2): the robot moves from o1 to o2\n",
    "<ul>\n",
    "    <li>Preconditions: robot-location(o1), steps(x)</li>\n",
    "    <li>Add: robot-location(o2), steps(x+distance(o1,o2))</li>\n",
    "    <li>Delete: robot-location(o1), steps(x)</li>\n",
    "</ul>\n",
    "\n",
    "Serve(o,n): the robot delivers n cups of coffee to office o\n",
    "<ul>\n",
    "<li>Preconditions: robot-location(o), robot-loaded(n), petition(o,n)</li>\n",
    "<li>Add: served(o), robot-free</li>\n",
    "<li>Delete: petition(o,n), robot-loaded(n)</li>\n",
    "</ul>\n",
    "\n",
    "A linear planner using these operators and some simple search heuristics has been implemented and can be tested [here](http://ponderinghydrogen.pythonanywhere.com/) The stack of goals is displayed on the left and current plan with total robot travelled steps is on the right.\n",
    "<img src=\"example_state.PNG\">"
   ]
  },
  {
   "cell_type": "markdown",
   "metadata": {},
   "source": [
    "<h2>Algorithm Implementation</h2>\n",
    "\n",
    "<b>Initialization</b>  \n",
    "The Planner class is initializated with the initial state of the form   \n",
    "                              {'robot-location': o, 'steps': 0,  \n",
    "                              'petitions': {office:petition_count},  \n",
    "                              'robot-free': True, 'robot-loaded': 0,  \n",
    "                              'machines': {office:capacity},  \n",
    "                              'served': []}"
   ]
  },
  {
   "cell_type": "code",
   "execution_count": 18,
   "metadata": {
    "collapsed": false
   },
   "outputs": [
    {
     "data": {
      "text/plain": [
       "<module 'Planner' from 'C:\\\\Users\\\\macle\\\\Desktop\\\\UPC Masters\\\\Semester 2\\\\PAR\\\\planning_exercise\\\\Planner.py'>"
      ]
     },
     "execution_count": 18,
     "metadata": {},
     "output_type": "execute_result"
    }
   ],
   "source": [
    "import Planner\n",
    "import importlib\n",
    "importlib.reload(Planner)"
   ]
  },
  {
   "cell_type": "code",
   "execution_count": 19,
   "metadata": {
    "collapsed": false
   },
   "outputs": [],
   "source": [
    "my_planner = Planner.Planner({'robot-location': 0, 'steps': 0,\n",
    "                              'petitions': {2: 1, 10: 3, 11: 1, 12: 2, 24: 1},\n",
    "                              'robot-free': True, 'robot-loaded': 0,\n",
    "                              'machines': {3: 3, 7: 1, 20: 2, 22: 1,30:2},\n",
    "                              'served': []})"
   ]
  },
  {
   "cell_type": "markdown",
   "metadata": {},
   "source": [
    "<b>Goal Stack</b>  \n",
    "Tthe Planner object has a propert 'stack' that contains the current elements in the stack of goals of the planner. The stack is initialed with the goal conditions of the goal state (ie offices to serve)"
   ]
  },
  {
   "cell_type": "code",
   "execution_count": 7,
   "metadata": {
    "collapsed": false
   },
   "outputs": [
    {
     "data": {
      "text/plain": [
       "[('served', 24), ('served', 2), ('served', 11), ('served', 12), ('served', 10)]"
      ]
     },
     "execution_count": 7,
     "metadata": {},
     "output_type": "execute_result"
    }
   ],
   "source": [
    "my_planner.stack"
   ]
  },
  {
   "cell_type": "markdown",
   "metadata": {},
   "source": [
    "The planner starts with the goal conditions in the stack and searches for the required operators that have in their add list one of the conditions in the stack (ie. operator ['serve', [11, 1]]] has ('served', 11) as an element in it's add list add list). If an operator is found, the goal condition is popped from the goal stack and the operator is added"
   ]
  },
  {
   "cell_type": "code",
   "execution_count": 8,
   "metadata": {
    "collapsed": false
   },
   "outputs": [
    {
     "data": {
      "text/plain": [
       "[('served', 24),\n",
       " ('served', 2),\n",
       " ('served', 10),\n",
       " ('served', 12),\n",
       " ['serve', [11, 1]]]"
      ]
     },
     "execution_count": 8,
     "metadata": {},
     "output_type": "execute_result"
    }
   ],
   "source": [
    "my_planner.update_stack()"
   ]
  },
  {
   "cell_type": "markdown",
   "metadata": {},
   "source": [
    "If the planner encounters an operator in the goal stack, it checks if the operators preconditions are satisfied in the current state and adds the preconditions to the stack that do not hold."
   ]
  },
  {
   "cell_type": "code",
   "execution_count": 9,
   "metadata": {
    "collapsed": false
   },
   "outputs": [
    {
     "data": {
      "text/plain": [
       "[('served', 24),\n",
       " ('served', 12),\n",
       " ('served', 10),\n",
       " ('served', 2),\n",
       " ['serve', [11, 1]],\n",
       " ('robot-location', 11),\n",
       " ('robot-loaded', 1)]"
      ]
     },
     "execution_count": 9,
     "metadata": {},
     "output_type": "execute_result"
    }
   ],
   "source": [
    "my_planner.update_stack()"
   ]
  },
  {
   "cell_type": "markdown",
   "metadata": {},
   "source": [
    "These added preconditions to the stack become subgoals that the planner searches for an operator to satisfy the same as for the final goal state goals."
   ]
  },
  {
   "cell_type": "code",
   "execution_count": 10,
   "metadata": {
    "collapsed": false
   },
   "outputs": [
    {
     "data": {
      "text/plain": [
       "[('served', 24),\n",
       " ('served', 12),\n",
       " ('served', 10),\n",
       " ('served', 2),\n",
       " ['serve', [11, 1]],\n",
       " ('robot-location', 11),\n",
       " ['make', [7, 1]]]"
      ]
     },
     "execution_count": 10,
     "metadata": {},
     "output_type": "execute_result"
    }
   ],
   "source": [
    "my_planner.update_stack()"
   ]
  },
  {
   "cell_type": "code",
   "execution_count": 11,
   "metadata": {
    "collapsed": false
   },
   "outputs": [
    {
     "data": {
      "text/plain": [
       "[('served', 24),\n",
       " ('served', 12),\n",
       " ('served', 10),\n",
       " ('served', 2),\n",
       " ['serve', [11, 1]],\n",
       " ('robot-location', 11),\n",
       " ['make', [7, 1]],\n",
       " ('robot-location', 7)]"
      ]
     },
     "execution_count": 11,
     "metadata": {},
     "output_type": "execute_result"
    }
   ],
   "source": [
    "my_planner.update_stack()"
   ]
  },
  {
   "cell_type": "code",
   "execution_count": 12,
   "metadata": {
    "collapsed": false
   },
   "outputs": [
    {
     "data": {
      "text/plain": [
       "[('served', 24),\n",
       " ('served', 12),\n",
       " ('served', 10),\n",
       " ('served', 2),\n",
       " ['serve', [11, 1]],\n",
       " ('robot-location', 11),\n",
       " ['make', [7, 1]],\n",
       " ['move', [0, 7]]]"
      ]
     },
     "execution_count": 12,
     "metadata": {},
     "output_type": "execute_result"
    }
   ],
   "source": [
    "my_planner.update_stack()"
   ]
  },
  {
   "cell_type": "markdown",
   "metadata": {},
   "source": [
    "If an operator in the stack has all of it's preconditions satisfied, it is added to the end of the plan and the current state is updated by applying the operator, and the operator is popped from the goal stack."
   ]
  },
  {
   "cell_type": "code",
   "execution_count": 13,
   "metadata": {
    "collapsed": false
   },
   "outputs": [
    {
     "data": {
      "text/plain": [
       "[('served', 24),\n",
       " ('served', 12),\n",
       " ('served', 10),\n",
       " ('served', 2),\n",
       " ['serve', [11, 1]],\n",
       " ('robot-location', 11),\n",
       " ['make', [7, 1]]]"
      ]
     },
     "execution_count": 13,
     "metadata": {},
     "output_type": "execute_result"
    }
   ],
   "source": [
    "my_planner.update_stack()"
   ]
  },
  {
   "cell_type": "code",
   "execution_count": 14,
   "metadata": {
    "collapsed": false
   },
   "outputs": [
    {
     "data": {
      "text/plain": [
       "['initialize', ['move', [0, 7]]]"
      ]
     },
     "execution_count": 14,
     "metadata": {},
     "output_type": "execute_result"
    }
   ],
   "source": [
    "my_planner.plan"
   ]
  },
  {
   "cell_type": "markdown",
   "metadata": {},
   "source": [
    "This procedure is repeated until the goal stack is empty"
   ]
  },
  {
   "cell_type": "code",
   "execution_count": 20,
   "metadata": {
    "collapsed": false
   },
   "outputs": [
    {
     "data": {
      "text/plain": [
       "['initialize',\n",
       " ['move', [0, 7]],\n",
       " ['make', [7, 1]],\n",
       " ['move', [7, 11]],\n",
       " ['serve', [11, 1]],\n",
       " ['move', [11, 22]],\n",
       " ['make', [22, 1]],\n",
       " ['move', [22, 2]],\n",
       " ['serve', [2, 1]],\n",
       " ['move', [2, 3]],\n",
       " ['make', [3, 3]],\n",
       " ['move', [3, 10]],\n",
       " ['serve', [10, 3]],\n",
       " ['move', [10, 22]],\n",
       " ['make', [22, 1]],\n",
       " ['move', [22, 24]],\n",
       " ['serve', [24, 1]],\n",
       " ['move', [24, 30]],\n",
       " ['make', [30, 2]],\n",
       " ['move', [30, 12]],\n",
       " ['serve', [12, 2]],\n",
       " 'finished']"
      ]
     },
     "execution_count": 20,
     "metadata": {},
     "output_type": "execute_result"
    }
   ],
   "source": [
    "my_planner.build_plan()\n",
    "my_planner.plan"
   ]
  },
  {
   "cell_type": "markdown",
   "metadata": {},
   "source": [
    "<b>Planning Heuristics</b>  \n",
    "Two heuristics have been added to the planning algorithm to increase it's ability to find more efficient plans. These heuristics are:\n",
    "1. Order the service goals in the stack by the closest (manhattan distance) machine that can serve a requested that petition to the location of the robot in the current state\n",
    "2. Order the make operations in the stack to the closest (manhattan distance) machine to the robot in the current state\n",
    "\n",
    "These heuristics ensure that the robot performs an availible action that is closest to it's current position, eliminating the amount of times it backtracks, making for more efficient plans."
   ]
  },
  {
   "cell_type": "markdown",
   "metadata": {},
   "source": [
    "<h2>Final Results</h2>  \n",
    "Using a simple linear planner with stack of goals and simple search space heuristics, an efficient agent for coffee service planning can be implemented. Through many different office configurations, the implemented agent performs logically and efficiently in collecting and serving petitions. In the simple case of diagaonal petitions an machines, the robot acts as expected by traversing directly diagonly along the service route, resulting in 10 steps. Similarily, with the simple diaganol petitions but in different machine capacity orders, the robot performs logically by serving the office with the machine of capacity the same as it's initial office, resulting in a total of 18 steps. The plan also performs effectively are more complicated office configurations."
   ]
  },
  {
   "cell_type": "markdown",
   "metadata": {},
   "source": [
    "<img src=\"final_example1.PNG\">\n",
    "<img src=\"final_example2.PNG\">\n",
    "<img src=\"final_example3.PNG\">"
   ]
  },
  {
   "cell_type": "markdown",
   "metadata": {},
   "source": [
    "<h2>Limitations</h2>\n",
    "The described linear planner implementation does not gaurentee maximally optimal service plans. Although the search hueristics help to discover more efficient plans, there does exist situations where the agent will perform sub-optimally. These cases arise when a coffee machine that can serve a petition is closer to that petiton, to another capable machine closer to the agent, causing the agent to unnecessarily backtrack to a less optimal machine. An example configuration of this is presented here.\n",
    "<img src=\"limit_example1.PNG\">\n",
    "\n",
    "Future work to improve the above implementation and correct this suboptimal behaviour would be to implement non-linear planning algorithms to discover optimal plans. However, the advantages of the above implementation is its superior ability to scale to larger input configuration, compared to the computationally expensive method of some non-linear planning algorithms. "
   ]
  },
  {
   "cell_type": "markdown",
   "metadata": {},
   "source": [
    "<h2>Execution Instructions</h2>\n",
    "A graphical interface for the described agent can be found [here](http://ponderinghydrogen.pythonanywhere.com/) To initialize the agent, fill in the desired coffee machine capacities and petitions in the correct offices and input the initial office of the robot in the 'robot_cell' input box. For example, if office 16 has a machine with capacity of 3 cups, and office 23 has a petition for 2 cups, input 3 in the 'machines' input box of office 16, and 2 in the 'petitions' input box of office 23. If the agent starts in office 2, enter 2 in the 'robot_cell' input box. Once configured, select the 'Submit' button.  \n",
    "You will be redirected to a graphical simulation of the agents plan, that can be stepped through using the 'Stack Step' slider to visualize plan execution."
   ]
  }
 ],
 "metadata": {
  "kernelspec": {
   "display_name": "Python 3",
   "language": "python",
   "name": "python3"
  },
  "language_info": {
   "codemirror_mode": {
    "name": "ipython",
    "version": 3
   },
   "file_extension": ".py",
   "mimetype": "text/x-python",
   "name": "python",
   "nbconvert_exporter": "python",
   "pygments_lexer": "ipython3",
   "version": "3.5.0"
  }
 },
 "nbformat": 4,
 "nbformat_minor": 0
}
