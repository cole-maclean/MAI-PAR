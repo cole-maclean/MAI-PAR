{
 "cells": [
  {
   "cell_type": "code",
   "execution_count": 24,
   "metadata": {
    "collapsed": false
   },
   "outputs": [
    {
     "data": {
      "text/plain": [
       "<module 'Planner' from 'C:\\\\Users\\\\macle\\\\Desktop\\\\UPC Masters\\\\Semester 2\\\\PAR\\\\Planning Exercise\\\\Planner.py'>"
      ]
     },
     "execution_count": 24,
     "metadata": {},
     "output_type": "execute_result"
    }
   ],
   "source": [
    "import Planner\n",
    "import importlib\n",
    "importlib.reload(Planner)"
   ]
  },
  {
   "cell_type": "code",
   "execution_count": 25,
   "metadata": {
    "collapsed": false
   },
   "outputs": [],
   "source": [
    "my_planner = Planner.Planner({'robot-location': 0, 'steps': 0, 'petitions': {8: 1, 19: 1, 20: 1, 13: 3, 15: 1}, 'robot-free': True, 'robot-loaded': 0, 'machines': {19: 1, 10: 1, 3: 1, 15: 1}, 'served': []},36)"
   ]
  },
  {
   "cell_type": "code",
   "execution_count": 26,
   "metadata": {
    "collapsed": false
   },
   "outputs": [
    {
     "data": {
      "text/plain": [
       "{'machines': {3: 1, 10: 1, 15: 1, 19: 1},\n",
       " 'petitions': {8: 1, 13: 3, 15: 1, 19: 1, 20: 1},\n",
       " 'robot-free': True,\n",
       " 'robot-loaded': 0,\n",
       " 'robot-location': 19,\n",
       " 'served': [],\n",
       " 'steps': 2}"
      ]
     },
     "execution_count": 26,
     "metadata": {},
     "output_type": "execute_result"
    }
   ],
   "source": [
    "my_planner.move(0,19)"
   ]
  },
  {
   "cell_type": "code",
   "execution_count": 27,
   "metadata": {
    "collapsed": false
   },
   "outputs": [],
   "source": [
    "my_planner.build_plan()"
   ]
  }
 ],
 "metadata": {
  "kernelspec": {
   "display_name": "Python 3",
   "language": "python",
   "name": "python3"
  },
  "language_info": {
   "codemirror_mode": {
    "name": "ipython",
    "version": 3
   },
   "file_extension": ".py",
   "mimetype": "text/x-python",
   "name": "python",
   "nbconvert_exporter": "python",
   "pygments_lexer": "ipython3",
   "version": "3.5.0"
  }
 },
 "nbformat": 4,
 "nbformat_minor": 0
}
