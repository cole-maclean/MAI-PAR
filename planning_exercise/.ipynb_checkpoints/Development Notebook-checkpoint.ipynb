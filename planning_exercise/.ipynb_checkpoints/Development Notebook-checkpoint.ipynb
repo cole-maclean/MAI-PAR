{
 "cells": [
  {
   "cell_type": "markdown",
   "metadata": {},
   "source": [
    "<h1>Coffee Delivery Robot Linear Planner</h1>\n",
    "<b>MAI-PAR Planning Exercise</b>  \n",
    "<b>Cole MacLean and Lucky Chinedu</b>  \n",
    "<b>November 6, 2016</b>  \n",
    "\n",
    "<h2>Introduction</h2>\n",
    "A discrete state planning exercise is presented to utilize and test the linear planning with a stack of goals ([PRISM](http://www.cs.cmu.edu/~mmv/planning/readings/strips.pdf)) algorithm for agent planning.  \n",
    "\n",
    "A mobile robotic agent capable of making and serving coffee to offices within a 2D office building is tasked with efficiently serving the requested coffee petitions in the least amount of steps to reduce office worker disturbances. The office building is modelled as a 6x6 square grid of 36 offices, and the steps between 2 offices is defined as their manhattan distance. The agent is fed information about coffee machine and petition capacities and office locations, and is required to build a daily service plan to efficiently fulfill the petitions given the new office configuration.\n",
    "\n",
    "The agent is a linear planner with 3 operators: Move, Make and Serve. The preconditions, additions and deletions of each operator in the planning algorithm are listed below.\n",
    "\n",
    "Make(o,n): the robot makes n cups of coffee in the machine located at office o\n",
    "<ul>\n",
    " <li>Preconditions: robot-location(o), robot-free, machine(o,n)</li>\n",
    " <li>Add: robot-loaded(n)</li>\n",
    " <li>Delete: robot-free</li>\n",
    "</ul>\n",
    "\n",
    "Move(o1,o2): the robot moves from o1 to o2\n",
    "<ul>\n",
    "    <li>Preconditions: robot-location(o1), steps(x)</li>\n",
    "    <li>Add: robot-location(o2), steps(x+distance(o1,o2))</li>\n",
    "    <li>Delete: robot-location(o1), steps(x)</li>\n",
    "</ul>\n",
    "\n",
    "Serve(o,n): the robot delivers n cups of coffee to office o\n",
    "<ul>\n",
    "<li>Preconditions: robot-location(o), robot-loaded(n), petition(o,n)</li>\n",
    "<li>Add: served(o), robot-free</li>\n",
    "<li>Delete: petition(o,n), robot-loaded(n)</li>\n",
    "</ul>\n",
    "\n",
    "A linear planner using these operators and some simple search heuristics has been implemented and can be tested [here](http://ponderinghydrogen.pythonanywhere.com/)\n",
    "<img src=\"example_state.PNG\">"
   ]
  },
  {
   "cell_type": "markdown",
   "metadata": {},
   "source": [
    "<h2>Algorithm Implementation</h2>\n",
    "The linear planner is implementated as a class object with 3 main methods that perform: Action search space traversal, Action filtering hueristics and Action execution.  \n",
    "<b>Initialization</b>  \n",
    "The Planner class is initializated with the initial state of the form   \n",
    "                              {'robot-location': o, 'steps': 0,  \n",
    "                              'petitions': {office:petition_count},  \n",
    "                              'robot-free': True, 'robot-loaded': 0,  \n",
    "                              'machines': {office:capacity},  \n",
    "                              'served': []}"
   ]
  },
  {
   "cell_type": "code",
   "execution_count": 2,
   "metadata": {
    "collapsed": false
   },
   "outputs": [],
   "source": [
    "import Planner"
   ]
  },
  {
   "cell_type": "code",
   "execution_count": 3,
   "metadata": {
    "collapsed": false
   },
   "outputs": [],
   "source": [
    "my_planner = Planner.Planner({'robot-location': 3, 'steps': 0,\n",
    "                              'petitions': {2: 1, 10: 3, 11: 1, 12: 2, 24: 1},\n",
    "                              'robot-free': True, 'robot-loaded': 0,\n",
    "                              'machines': {3: 3, 7: 1, 20: 2, 22: 1,30:2},\n",
    "                              'served': []},36)"
   ]
  },
  {
   "cell_type": "markdown",
   "metadata": {},
   "source": [
    "<b>Search Space Traversal</b>  \n",
    "The first method, possible_actions, checks the current state compared to operator preconditions and builds a list of all legal actions."
   ]
  },
  {
   "cell_type": "code",
   "execution_count": 6,
   "metadata": {
    "collapsed": false
   },
   "outputs": [
    {
     "data": {
      "text/plain": [
       "[['move', [3, 0]],\n",
       " ['move', [3, 1]],\n",
       " ['move', [3, 2]],\n",
       " ['move', [3, 4]],\n",
       " ['move', [3, 5]],\n",
       " ['move', [3, 6]],\n",
       " ['move', [3, 7]],\n",
       " ['move', [3, 8]],\n",
       " ['move', [3, 9]],\n",
       " ['move', [3, 10]],\n",
       " ['move', [3, 11]],\n",
       " ['move', [3, 12]],\n",
       " ['move', [3, 13]],\n",
       " ['move', [3, 14]],\n",
       " ['move', [3, 15]],\n",
       " ['move', [3, 16]],\n",
       " ['move', [3, 17]],\n",
       " ['move', [3, 18]],\n",
       " ['move', [3, 19]],\n",
       " ['move', [3, 20]],\n",
       " ['move', [3, 21]],\n",
       " ['move', [3, 22]],\n",
       " ['move', [3, 23]],\n",
       " ['move', [3, 24]],\n",
       " ['move', [3, 25]],\n",
       " ['move', [3, 26]],\n",
       " ['move', [3, 27]],\n",
       " ['move', [3, 28]],\n",
       " ['move', [3, 29]],\n",
       " ['move', [3, 30]],\n",
       " ['move', [3, 31]],\n",
       " ['move', [3, 32]],\n",
       " ['move', [3, 33]],\n",
       " ['move', [3, 34]],\n",
       " ['move', [3, 35]],\n",
       " ['make', [3, 1]],\n",
       " ['make', [3, 2]],\n",
       " ['make', [3, 3]]]"
      ]
     },
     "execution_count": 6,
     "metadata": {},
     "output_type": "execute_result"
    }
   ],
   "source": [
    "acts = my_planner.possible_actions()\n",
    "acts"
   ]
  },
  {
   "cell_type": "markdown",
   "metadata": {},
   "source": [
    "<b>Search Space Filtering Heuristics</b>  \n",
    "The method, select_action, uses 4 simple rules to select the optimal action from the list of all possible actions.\n",
    "#1.) If a serve action exists in the action_list, then perform the serve action\n",
    "#2.) If robot is loaded with a petitioned amount of cups, perform move action to the minimum manhatten distance to the petitioning offices\n",
    "#3.) If a make action is in the list, and #ofcups equals an existing petitioned #ofcups, then perform the make action that can serve the closest petition\n",
    "#4.) If no other actions than move to a machine exist, move to the closest machine capable of making #ofcups > or = an existing petitioned #ofcups"
   ]
  },
  {
   "cell_type": "code",
   "execution_count": 7,
   "metadata": {
    "collapsed": false
   },
   "outputs": [
    {
     "data": {
      "text/plain": [
       "['make', [3, 1]]"
      ]
     },
     "execution_count": 7,
     "metadata": {},
     "output_type": "execute_result"
    }
   ],
   "source": [
    "my_planner.select_action(acts)"
   ]
  },
  {
   "cell_type": "markdown",
   "metadata": {},
   "source": [
    "<b>Action Execution</b>  \n",
    "The method, perform_step, executes the selected action and stores the resulting new state in the planner.plan property. A helper function, build_plan, iteratively performs the perform_step method until the goal_state is satisfied, and returns the full plan with intermediate states and actions for the agent."
   ]
  },
  {
   "cell_type": "code",
   "execution_count": 8,
   "metadata": {
    "collapsed": false
   },
   "outputs": [
    {
     "data": {
      "text/plain": [
       "[{'action': 'initialize',\n",
       "  'state': {'machines': {3: 3, 7: 1, 20: 2, 22: 1, 30: 2},\n",
       "   'petitions': {2: 1, 10: 3, 11: 1, 12: 2, 24: 1},\n",
       "   'robot-free': True,\n",
       "   'robot-loaded': 0,\n",
       "   'robot-location': 3,\n",
       "   'served': [],\n",
       "   'steps': 0}},\n",
       " {'action': ['make', [3, 1]],\n",
       "  'state': {'machines': {3: 3, 7: 1, 20: 2, 22: 1, 30: 2},\n",
       "   'petitions': {2: 1, 10: 3, 11: 1, 12: 2, 24: 1},\n",
       "   'robot-free': False,\n",
       "   'robot-loaded': 1,\n",
       "   'robot-location': 3,\n",
       "   'served': [],\n",
       "   'steps': 0}},\n",
       " {'action': ['move', [3, 2]],\n",
       "  'state': {'machines': {3: 3, 7: 1, 20: 2, 22: 1, 30: 2},\n",
       "   'petitions': {2: 1, 10: 3, 11: 1, 12: 2, 24: 1},\n",
       "   'robot-free': False,\n",
       "   'robot-loaded': 1,\n",
       "   'robot-location': 2,\n",
       "   'served': [],\n",
       "   'steps': 1}},\n",
       " {'action': ['serve', [2, 1]],\n",
       "  'state': {'machines': {3: 3, 7: 1, 20: 2, 22: 1, 30: 2},\n",
       "   'petitions': {10: 3, 11: 1, 12: 2, 24: 1},\n",
       "   'robot-free': True,\n",
       "   'robot-loaded': 0,\n",
       "   'robot-location': 2,\n",
       "   'served': [2],\n",
       "   'steps': 1}},\n",
       " {'action': ['move', [2, 3]],\n",
       "  'state': {'machines': {3: 3, 7: 1, 20: 2, 22: 1, 30: 2},\n",
       "   'petitions': {10: 3, 11: 1, 12: 2, 24: 1},\n",
       "   'robot-free': True,\n",
       "   'robot-loaded': 0,\n",
       "   'robot-location': 3,\n",
       "   'served': [2],\n",
       "   'steps': 2}},\n",
       " {'action': ['make', [3, 3]],\n",
       "  'state': {'machines': {3: 3, 7: 1, 20: 2, 22: 1, 30: 2},\n",
       "   'petitions': {10: 3, 11: 1, 12: 2, 24: 1},\n",
       "   'robot-free': False,\n",
       "   'robot-loaded': 3,\n",
       "   'robot-location': 3,\n",
       "   'served': [2],\n",
       "   'steps': 2}},\n",
       " {'action': ['move', [3, 10]],\n",
       "  'state': {'machines': {3: 3, 7: 1, 20: 2, 22: 1, 30: 2},\n",
       "   'petitions': {10: 3, 11: 1, 12: 2, 24: 1},\n",
       "   'robot-free': False,\n",
       "   'robot-loaded': 3,\n",
       "   'robot-location': 10,\n",
       "   'served': [2],\n",
       "   'steps': 4}},\n",
       " {'action': ['serve', [10, 3]],\n",
       "  'state': {'machines': {3: 3, 7: 1, 20: 2, 22: 1, 30: 2},\n",
       "   'petitions': {11: 1, 12: 2, 24: 1},\n",
       "   'robot-free': True,\n",
       "   'robot-loaded': 0,\n",
       "   'robot-location': 10,\n",
       "   'served': [2, 10],\n",
       "   'steps': 4}},\n",
       " {'action': ['move', [10, 3]],\n",
       "  'state': {'machines': {3: 3, 7: 1, 20: 2, 22: 1, 30: 2},\n",
       "   'petitions': {11: 1, 12: 2, 24: 1},\n",
       "   'robot-free': True,\n",
       "   'robot-loaded': 0,\n",
       "   'robot-location': 3,\n",
       "   'served': [2, 10],\n",
       "   'steps': 6}},\n",
       " {'action': ['make', [3, 1]],\n",
       "  'state': {'machines': {3: 3, 7: 1, 20: 2, 22: 1, 30: 2},\n",
       "   'petitions': {11: 1, 12: 2, 24: 1},\n",
       "   'robot-free': False,\n",
       "   'robot-loaded': 1,\n",
       "   'robot-location': 3,\n",
       "   'served': [2, 10],\n",
       "   'steps': 6}},\n",
       " {'action': ['move', [3, 11]],\n",
       "  'state': {'machines': {3: 3, 7: 1, 20: 2, 22: 1, 30: 2},\n",
       "   'petitions': {11: 1, 12: 2, 24: 1},\n",
       "   'robot-free': False,\n",
       "   'robot-loaded': 1,\n",
       "   'robot-location': 11,\n",
       "   'served': [2, 10],\n",
       "   'steps': 9}},\n",
       " {'action': ['serve', [11, 1]],\n",
       "  'state': {'machines': {3: 3, 7: 1, 20: 2, 22: 1, 30: 2},\n",
       "   'petitions': {12: 2, 24: 1},\n",
       "   'robot-free': True,\n",
       "   'robot-loaded': 0,\n",
       "   'robot-location': 11,\n",
       "   'served': [2, 10, 11],\n",
       "   'steps': 9}},\n",
       " {'action': ['move', [11, 3]],\n",
       "  'state': {'machines': {3: 3, 7: 1, 20: 2, 22: 1, 30: 2},\n",
       "   'petitions': {12: 2, 24: 1},\n",
       "   'robot-free': True,\n",
       "   'robot-loaded': 0,\n",
       "   'robot-location': 3,\n",
       "   'served': [2, 10, 11],\n",
       "   'steps': 12}},\n",
       " {'action': ['make', [3, 2]],\n",
       "  'state': {'machines': {3: 3, 7: 1, 20: 2, 22: 1, 30: 2},\n",
       "   'petitions': {12: 2, 24: 1},\n",
       "   'robot-free': False,\n",
       "   'robot-loaded': 2,\n",
       "   'robot-location': 3,\n",
       "   'served': [2, 10, 11],\n",
       "   'steps': 12}},\n",
       " {'action': ['move', [3, 12]],\n",
       "  'state': {'machines': {3: 3, 7: 1, 20: 2, 22: 1, 30: 2},\n",
       "   'petitions': {12: 2, 24: 1},\n",
       "   'robot-free': False,\n",
       "   'robot-loaded': 2,\n",
       "   'robot-location': 12,\n",
       "   'served': [2, 10, 11],\n",
       "   'steps': 17}},\n",
       " {'action': ['serve', [12, 2]],\n",
       "  'state': {'machines': {3: 3, 7: 1, 20: 2, 22: 1, 30: 2},\n",
       "   'petitions': {24: 1},\n",
       "   'robot-free': True,\n",
       "   'robot-loaded': 0,\n",
       "   'robot-location': 12,\n",
       "   'served': [2, 10, 11, 12],\n",
       "   'steps': 17}},\n",
       " {'action': ['move', [12, 7]],\n",
       "  'state': {'machines': {3: 3, 7: 1, 20: 2, 22: 1, 30: 2},\n",
       "   'petitions': {24: 1},\n",
       "   'robot-free': True,\n",
       "   'robot-loaded': 0,\n",
       "   'robot-location': 7,\n",
       "   'served': [2, 10, 11, 12],\n",
       "   'steps': 19}},\n",
       " {'action': ['make', [7, 1]],\n",
       "  'state': {'machines': {3: 3, 7: 1, 20: 2, 22: 1, 30: 2},\n",
       "   'petitions': {24: 1},\n",
       "   'robot-free': False,\n",
       "   'robot-loaded': 1,\n",
       "   'robot-location': 7,\n",
       "   'served': [2, 10, 11, 12],\n",
       "   'steps': 19}},\n",
       " {'action': ['move', [7, 24]],\n",
       "  'state': {'machines': {3: 3, 7: 1, 20: 2, 22: 1, 30: 2},\n",
       "   'petitions': {24: 1},\n",
       "   'robot-free': False,\n",
       "   'robot-loaded': 1,\n",
       "   'robot-location': 24,\n",
       "   'served': [2, 10, 11, 12],\n",
       "   'steps': 23}},\n",
       " {'action': ['serve', [24, 1]],\n",
       "  'state': {'machines': {3: 3, 7: 1, 20: 2, 22: 1, 30: 2},\n",
       "   'petitions': {},\n",
       "   'robot-free': True,\n",
       "   'robot-loaded': 0,\n",
       "   'robot-location': 24,\n",
       "   'served': [2, 10, 11, 12, 24],\n",
       "   'steps': 23}},\n",
       " {'action': 'finished',\n",
       "  'state': {'machines': {3: 3, 7: 1, 20: 2, 22: 1, 30: 2},\n",
       "   'petitions': {},\n",
       "   'robot-free': True,\n",
       "   'robot-loaded': 0,\n",
       "   'robot-location': 24,\n",
       "   'served': [2, 10, 11, 12, 24],\n",
       "   'steps': 23}}]"
      ]
     },
     "execution_count": 8,
     "metadata": {},
     "output_type": "execute_result"
    }
   ],
   "source": [
    "my_planner.build_plan()"
   ]
  },
  {
   "cell_type": "markdown",
   "metadata": {},
   "source": [
    "<h2>Final Results</h2>  \n",
    "Using a simple linear planner with stack of goals and simple search space heuristics, an efficient agent for coffee service planning can be implemented. Through many different office configurations, the implemented agent performs logically and efficiently in collecting and serving petitions. "
   ]
  },
  {
   "cell_type": "markdown",
   "metadata": {},
   "source": [
    "<h2>Limitations</h2>\n",
    "The described linear planner implementation does not gaurentee maximally optimal service plans. Although the 4 rules for search space filtering capture nearly all situations for optimal action selection, there does exist situations where the agent will perform sub-optimally. These cases arise when a coffee machine that can serve a petition is closer to that petiton, to another capable machine closer to the agent, causing the agent to unnecessarily. An example configuration of this is presented here.\n",
    "<img src=\"limit_example1.PNG\">\n",
    "\n",
    "In this example, the optimal route is for the agent to use the 2 cup capacity machine to serve the single cup petition, and carry-on towards the 3 cup capacity machine to serve the 2 cup petition. The above implementation incorrectly utilize the 2 cup capacity machine to serve both petitions, due to search hueristic #4 move to closest machine capable of serving an existing petition. \n",
    "\n",
    "<img src=\"limit_example2.PNG\">\n",
    "\n",
    "Future work to improve the above implementation and correct this suboptimal behaviour would be to implement full search tree traversal and selection of the globally optimal plan. However, the advantages of the above implementation is its superior ability to scale to larger input configuration, compared to the computationally expensive method of a full search tree traversal implementation. "
   ]
  },
  {
   "cell_type": "markdown",
   "metadata": {},
   "source": [
    "<h2>Execution Instructions</h2>\n",
    "A graphical interface for the described agent can be found [here](http://ponderinghydrogen.pythonanywhere.com/) To initialize the agent, fill in the desired coffee machine capacities and petitions in the correct offices and input the initial office of the robot in the 'robot_cell' input box. For example, if office 16 has a machine with capacity of 3 cups, and office 23 has a petition for 2 cups, input 3 in the 'machines' input box of office 16, and 2 in the 'petitions' input box of office 23. If the agent starts in office 2, enter 2 in the 'robot_cell' input box. Once configured, select the 'Submit' button.  \n",
    "You will be redirected to a graphical simulation of the agents plan, that can be stepped through using the 'Plan Step' slider to visualize plan execution."
   ]
  }
 ],
 "metadata": {
  "kernelspec": {
   "display_name": "Python 3",
   "language": "python",
   "name": "python3"
  },
  "language_info": {
   "codemirror_mode": {
    "name": "ipython",
    "version": 3
   },
   "file_extension": ".py",
   "mimetype": "text/x-python",
   "name": "python",
   "nbconvert_exporter": "python",
   "pygments_lexer": "ipython3",
   "version": "3.5.0"
  }
 },
 "nbformat": 4,
 "nbformat_minor": 0
}
